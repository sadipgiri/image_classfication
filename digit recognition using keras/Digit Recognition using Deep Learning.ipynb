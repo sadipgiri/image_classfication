{
 "cells": [
  {
   "cell_type": "code",
   "execution_count": 1,
   "metadata": {},
   "outputs": [
    {
     "data": {
      "text/plain": [
       "'\\n    Digit Recognition using Deep Learning\\n    Author: Sadip Giri\\n    Date: 25th Oct. 2018\\n'"
      ]
     },
     "execution_count": 1,
     "metadata": {},
     "output_type": "execute_result"
    }
   ],
   "source": [
    "\"\"\"\n",
    "    Digit Recognition using Deep Learning\n",
    "    Author: Sadip Giri\n",
    "    Date: 25th Oct. 2018\n",
    "\"\"\""
   ]
  },
  {
   "cell_type": "code",
   "execution_count": 2,
   "metadata": {},
   "outputs": [],
   "source": [
    "import pandas as pd\n",
    "import numpy as np"
   ]
  },
  {
   "cell_type": "code",
   "execution_count": 3,
   "metadata": {},
   "outputs": [],
   "source": [
    "# read digit csv file using pandas\n",
    "train_set = pd.read_csv('./digit_data/train.csv')\n",
    "test_set = pd.read_csv('./digit_data/test.csv')"
   ]
  },
  {
   "cell_type": "code",
   "execution_count": 4,
   "metadata": {
    "scrolled": true
   },
   "outputs": [
    {
     "data": {
      "text/html": [
       "<div>\n",
       "<style>\n",
       "    .dataframe thead tr:only-child th {\n",
       "        text-align: right;\n",
       "    }\n",
       "\n",
       "    .dataframe thead th {\n",
       "        text-align: left;\n",
       "    }\n",
       "\n",
       "    .dataframe tbody tr th {\n",
       "        vertical-align: top;\n",
       "    }\n",
       "</style>\n",
       "<table border=\"1\" class=\"dataframe\">\n",
       "  <thead>\n",
       "    <tr style=\"text-align: right;\">\n",
       "      <th></th>\n",
       "      <th>label</th>\n",
       "      <th>pixel0</th>\n",
       "      <th>pixel1</th>\n",
       "      <th>pixel2</th>\n",
       "      <th>pixel3</th>\n",
       "      <th>pixel4</th>\n",
       "      <th>pixel5</th>\n",
       "      <th>pixel6</th>\n",
       "      <th>pixel7</th>\n",
       "      <th>pixel8</th>\n",
       "      <th>...</th>\n",
       "      <th>pixel774</th>\n",
       "      <th>pixel775</th>\n",
       "      <th>pixel776</th>\n",
       "      <th>pixel777</th>\n",
       "      <th>pixel778</th>\n",
       "      <th>pixel779</th>\n",
       "      <th>pixel780</th>\n",
       "      <th>pixel781</th>\n",
       "      <th>pixel782</th>\n",
       "      <th>pixel783</th>\n",
       "    </tr>\n",
       "  </thead>\n",
       "  <tbody>\n",
       "    <tr>\n",
       "      <th>0</th>\n",
       "      <td>1</td>\n",
       "      <td>0</td>\n",
       "      <td>0</td>\n",
       "      <td>0</td>\n",
       "      <td>0</td>\n",
       "      <td>0</td>\n",
       "      <td>0</td>\n",
       "      <td>0</td>\n",
       "      <td>0</td>\n",
       "      <td>0</td>\n",
       "      <td>...</td>\n",
       "      <td>0</td>\n",
       "      <td>0</td>\n",
       "      <td>0</td>\n",
       "      <td>0</td>\n",
       "      <td>0</td>\n",
       "      <td>0</td>\n",
       "      <td>0</td>\n",
       "      <td>0</td>\n",
       "      <td>0</td>\n",
       "      <td>0</td>\n",
       "    </tr>\n",
       "    <tr>\n",
       "      <th>1</th>\n",
       "      <td>0</td>\n",
       "      <td>0</td>\n",
       "      <td>0</td>\n",
       "      <td>0</td>\n",
       "      <td>0</td>\n",
       "      <td>0</td>\n",
       "      <td>0</td>\n",
       "      <td>0</td>\n",
       "      <td>0</td>\n",
       "      <td>0</td>\n",
       "      <td>...</td>\n",
       "      <td>0</td>\n",
       "      <td>0</td>\n",
       "      <td>0</td>\n",
       "      <td>0</td>\n",
       "      <td>0</td>\n",
       "      <td>0</td>\n",
       "      <td>0</td>\n",
       "      <td>0</td>\n",
       "      <td>0</td>\n",
       "      <td>0</td>\n",
       "    </tr>\n",
       "    <tr>\n",
       "      <th>2</th>\n",
       "      <td>1</td>\n",
       "      <td>0</td>\n",
       "      <td>0</td>\n",
       "      <td>0</td>\n",
       "      <td>0</td>\n",
       "      <td>0</td>\n",
       "      <td>0</td>\n",
       "      <td>0</td>\n",
       "      <td>0</td>\n",
       "      <td>0</td>\n",
       "      <td>...</td>\n",
       "      <td>0</td>\n",
       "      <td>0</td>\n",
       "      <td>0</td>\n",
       "      <td>0</td>\n",
       "      <td>0</td>\n",
       "      <td>0</td>\n",
       "      <td>0</td>\n",
       "      <td>0</td>\n",
       "      <td>0</td>\n",
       "      <td>0</td>\n",
       "    </tr>\n",
       "  </tbody>\n",
       "</table>\n",
       "<p>3 rows × 785 columns</p>\n",
       "</div>"
      ],
      "text/plain": [
       "   label  pixel0  pixel1  pixel2  pixel3  pixel4  pixel5  pixel6  pixel7  \\\n",
       "0      1       0       0       0       0       0       0       0       0   \n",
       "1      0       0       0       0       0       0       0       0       0   \n",
       "2      1       0       0       0       0       0       0       0       0   \n",
       "\n",
       "   pixel8    ...     pixel774  pixel775  pixel776  pixel777  pixel778  \\\n",
       "0       0    ...            0         0         0         0         0   \n",
       "1       0    ...            0         0         0         0         0   \n",
       "2       0    ...            0         0         0         0         0   \n",
       "\n",
       "   pixel779  pixel780  pixel781  pixel782  pixel783  \n",
       "0         0         0         0         0         0  \n",
       "1         0         0         0         0         0  \n",
       "2         0         0         0         0         0  \n",
       "\n",
       "[3 rows x 785 columns]"
      ]
     },
     "execution_count": 4,
     "metadata": {},
     "output_type": "execute_result"
    }
   ],
   "source": [
    "# visualize the data\n",
    "train_set.head(3)"
   ]
  },
  {
   "cell_type": "code",
   "execution_count": 5,
   "metadata": {
    "scrolled": true
   },
   "outputs": [
    {
     "data": {
      "text/html": [
       "<div>\n",
       "<style>\n",
       "    .dataframe thead tr:only-child th {\n",
       "        text-align: right;\n",
       "    }\n",
       "\n",
       "    .dataframe thead th {\n",
       "        text-align: left;\n",
       "    }\n",
       "\n",
       "    .dataframe tbody tr th {\n",
       "        vertical-align: top;\n",
       "    }\n",
       "</style>\n",
       "<table border=\"1\" class=\"dataframe\">\n",
       "  <thead>\n",
       "    <tr style=\"text-align: right;\">\n",
       "      <th></th>\n",
       "      <th>pixel0</th>\n",
       "      <th>pixel1</th>\n",
       "      <th>pixel2</th>\n",
       "      <th>pixel3</th>\n",
       "      <th>pixel4</th>\n",
       "      <th>pixel5</th>\n",
       "      <th>pixel6</th>\n",
       "      <th>pixel7</th>\n",
       "      <th>pixel8</th>\n",
       "      <th>pixel9</th>\n",
       "      <th>...</th>\n",
       "      <th>pixel774</th>\n",
       "      <th>pixel775</th>\n",
       "      <th>pixel776</th>\n",
       "      <th>pixel777</th>\n",
       "      <th>pixel778</th>\n",
       "      <th>pixel779</th>\n",
       "      <th>pixel780</th>\n",
       "      <th>pixel781</th>\n",
       "      <th>pixel782</th>\n",
       "      <th>pixel783</th>\n",
       "    </tr>\n",
       "  </thead>\n",
       "  <tbody>\n",
       "    <tr>\n",
       "      <th>0</th>\n",
       "      <td>0</td>\n",
       "      <td>0</td>\n",
       "      <td>0</td>\n",
       "      <td>0</td>\n",
       "      <td>0</td>\n",
       "      <td>0</td>\n",
       "      <td>0</td>\n",
       "      <td>0</td>\n",
       "      <td>0</td>\n",
       "      <td>0</td>\n",
       "      <td>...</td>\n",
       "      <td>0</td>\n",
       "      <td>0</td>\n",
       "      <td>0</td>\n",
       "      <td>0</td>\n",
       "      <td>0</td>\n",
       "      <td>0</td>\n",
       "      <td>0</td>\n",
       "      <td>0</td>\n",
       "      <td>0</td>\n",
       "      <td>0</td>\n",
       "    </tr>\n",
       "    <tr>\n",
       "      <th>1</th>\n",
       "      <td>0</td>\n",
       "      <td>0</td>\n",
       "      <td>0</td>\n",
       "      <td>0</td>\n",
       "      <td>0</td>\n",
       "      <td>0</td>\n",
       "      <td>0</td>\n",
       "      <td>0</td>\n",
       "      <td>0</td>\n",
       "      <td>0</td>\n",
       "      <td>...</td>\n",
       "      <td>0</td>\n",
       "      <td>0</td>\n",
       "      <td>0</td>\n",
       "      <td>0</td>\n",
       "      <td>0</td>\n",
       "      <td>0</td>\n",
       "      <td>0</td>\n",
       "      <td>0</td>\n",
       "      <td>0</td>\n",
       "      <td>0</td>\n",
       "    </tr>\n",
       "    <tr>\n",
       "      <th>2</th>\n",
       "      <td>0</td>\n",
       "      <td>0</td>\n",
       "      <td>0</td>\n",
       "      <td>0</td>\n",
       "      <td>0</td>\n",
       "      <td>0</td>\n",
       "      <td>0</td>\n",
       "      <td>0</td>\n",
       "      <td>0</td>\n",
       "      <td>0</td>\n",
       "      <td>...</td>\n",
       "      <td>0</td>\n",
       "      <td>0</td>\n",
       "      <td>0</td>\n",
       "      <td>0</td>\n",
       "      <td>0</td>\n",
       "      <td>0</td>\n",
       "      <td>0</td>\n",
       "      <td>0</td>\n",
       "      <td>0</td>\n",
       "      <td>0</td>\n",
       "    </tr>\n",
       "  </tbody>\n",
       "</table>\n",
       "<p>3 rows × 784 columns</p>\n",
       "</div>"
      ],
      "text/plain": [
       "   pixel0  pixel1  pixel2  pixel3  pixel4  pixel5  pixel6  pixel7  pixel8  \\\n",
       "0       0       0       0       0       0       0       0       0       0   \n",
       "1       0       0       0       0       0       0       0       0       0   \n",
       "2       0       0       0       0       0       0       0       0       0   \n",
       "\n",
       "   pixel9    ...     pixel774  pixel775  pixel776  pixel777  pixel778  \\\n",
       "0       0    ...            0         0         0         0         0   \n",
       "1       0    ...            0         0         0         0         0   \n",
       "2       0    ...            0         0         0         0         0   \n",
       "\n",
       "   pixel779  pixel780  pixel781  pixel782  pixel783  \n",
       "0         0         0         0         0         0  \n",
       "1         0         0         0         0         0  \n",
       "2         0         0         0         0         0  \n",
       "\n",
       "[3 rows x 784 columns]"
      ]
     },
     "execution_count": 5,
     "metadata": {},
     "output_type": "execute_result"
    }
   ],
   "source": [
    "test_set.head(3)"
   ]
  },
  {
   "cell_type": "code",
   "execution_count": 6,
   "metadata": {},
   "outputs": [],
   "source": [
    "trainset_without_labels = train_set.iloc[:, 1:785] # asbtracting train_set from 1 to 785 that is all pixels.. without lables"
   ]
  },
  {
   "cell_type": "code",
   "execution_count": 7,
   "metadata": {
    "scrolled": true
   },
   "outputs": [
    {
     "data": {
      "text/html": [
       "<div>\n",
       "<style>\n",
       "    .dataframe thead tr:only-child th {\n",
       "        text-align: right;\n",
       "    }\n",
       "\n",
       "    .dataframe thead th {\n",
       "        text-align: left;\n",
       "    }\n",
       "\n",
       "    .dataframe tbody tr th {\n",
       "        vertical-align: top;\n",
       "    }\n",
       "</style>\n",
       "<table border=\"1\" class=\"dataframe\">\n",
       "  <thead>\n",
       "    <tr style=\"text-align: right;\">\n",
       "      <th></th>\n",
       "      <th>pixel0</th>\n",
       "      <th>pixel1</th>\n",
       "      <th>pixel2</th>\n",
       "      <th>pixel3</th>\n",
       "      <th>pixel4</th>\n",
       "      <th>pixel5</th>\n",
       "      <th>pixel6</th>\n",
       "      <th>pixel7</th>\n",
       "      <th>pixel8</th>\n",
       "      <th>pixel9</th>\n",
       "      <th>...</th>\n",
       "      <th>pixel774</th>\n",
       "      <th>pixel775</th>\n",
       "      <th>pixel776</th>\n",
       "      <th>pixel777</th>\n",
       "      <th>pixel778</th>\n",
       "      <th>pixel779</th>\n",
       "      <th>pixel780</th>\n",
       "      <th>pixel781</th>\n",
       "      <th>pixel782</th>\n",
       "      <th>pixel783</th>\n",
       "    </tr>\n",
       "  </thead>\n",
       "  <tbody>\n",
       "    <tr>\n",
       "      <th>41997</th>\n",
       "      <td>0</td>\n",
       "      <td>0</td>\n",
       "      <td>0</td>\n",
       "      <td>0</td>\n",
       "      <td>0</td>\n",
       "      <td>0</td>\n",
       "      <td>0</td>\n",
       "      <td>0</td>\n",
       "      <td>0</td>\n",
       "      <td>0</td>\n",
       "      <td>...</td>\n",
       "      <td>0</td>\n",
       "      <td>0</td>\n",
       "      <td>0</td>\n",
       "      <td>0</td>\n",
       "      <td>0</td>\n",
       "      <td>0</td>\n",
       "      <td>0</td>\n",
       "      <td>0</td>\n",
       "      <td>0</td>\n",
       "      <td>0</td>\n",
       "    </tr>\n",
       "    <tr>\n",
       "      <th>41998</th>\n",
       "      <td>0</td>\n",
       "      <td>0</td>\n",
       "      <td>0</td>\n",
       "      <td>0</td>\n",
       "      <td>0</td>\n",
       "      <td>0</td>\n",
       "      <td>0</td>\n",
       "      <td>0</td>\n",
       "      <td>0</td>\n",
       "      <td>0</td>\n",
       "      <td>...</td>\n",
       "      <td>0</td>\n",
       "      <td>0</td>\n",
       "      <td>0</td>\n",
       "      <td>0</td>\n",
       "      <td>0</td>\n",
       "      <td>0</td>\n",
       "      <td>0</td>\n",
       "      <td>0</td>\n",
       "      <td>0</td>\n",
       "      <td>0</td>\n",
       "    </tr>\n",
       "    <tr>\n",
       "      <th>41999</th>\n",
       "      <td>0</td>\n",
       "      <td>0</td>\n",
       "      <td>0</td>\n",
       "      <td>0</td>\n",
       "      <td>0</td>\n",
       "      <td>0</td>\n",
       "      <td>0</td>\n",
       "      <td>0</td>\n",
       "      <td>0</td>\n",
       "      <td>0</td>\n",
       "      <td>...</td>\n",
       "      <td>0</td>\n",
       "      <td>0</td>\n",
       "      <td>0</td>\n",
       "      <td>0</td>\n",
       "      <td>0</td>\n",
       "      <td>0</td>\n",
       "      <td>0</td>\n",
       "      <td>0</td>\n",
       "      <td>0</td>\n",
       "      <td>0</td>\n",
       "    </tr>\n",
       "  </tbody>\n",
       "</table>\n",
       "<p>3 rows × 784 columns</p>\n",
       "</div>"
      ],
      "text/plain": [
       "       pixel0  pixel1  pixel2  pixel3  pixel4  pixel5  pixel6  pixel7  pixel8  \\\n",
       "41997       0       0       0       0       0       0       0       0       0   \n",
       "41998       0       0       0       0       0       0       0       0       0   \n",
       "41999       0       0       0       0       0       0       0       0       0   \n",
       "\n",
       "       pixel9    ...     pixel774  pixel775  pixel776  pixel777  pixel778  \\\n",
       "41997       0    ...            0         0         0         0         0   \n",
       "41998       0    ...            0         0         0         0         0   \n",
       "41999       0    ...            0         0         0         0         0   \n",
       "\n",
       "       pixel779  pixel780  pixel781  pixel782  pixel783  \n",
       "41997         0         0         0         0         0  \n",
       "41998         0         0         0         0         0  \n",
       "41999         0         0         0         0         0  \n",
       "\n",
       "[3 rows x 784 columns]"
      ]
     },
     "execution_count": 7,
     "metadata": {},
     "output_type": "execute_result"
    }
   ],
   "source": [
    "trainset_without_labels.tail(3)"
   ]
  },
  {
   "cell_type": "code",
   "execution_count": 8,
   "metadata": {},
   "outputs": [],
   "source": [
    "trainset_labels = train_set.iloc[:, 0] # abstracting out labels from training set"
   ]
  },
  {
   "cell_type": "code",
   "execution_count": 11,
   "metadata": {},
   "outputs": [
    {
     "data": {
      "text/plain": [
       "0    1\n",
       "1    0\n",
       "2    1\n",
       "3    4\n",
       "Name: label, dtype: int64"
      ]
     },
     "execution_count": 11,
     "metadata": {},
     "output_type": "execute_result"
    }
   ],
   "source": [
    "trainset_labels[:4] # visualize the labels"
   ]
  },
  {
   "cell_type": "code",
   "execution_count": 12,
   "metadata": {},
   "outputs": [],
   "source": [
    "X_test = test_set.iloc[:, 0:784] # its good: we don't have labels in the test set"
   ]
  },
  {
   "cell_type": "code",
   "execution_count": 15,
   "metadata": {},
   "outputs": [
    {
     "data": {
      "text/html": [
       "<div>\n",
       "<style>\n",
       "    .dataframe thead tr:only-child th {\n",
       "        text-align: right;\n",
       "    }\n",
       "\n",
       "    .dataframe thead th {\n",
       "        text-align: left;\n",
       "    }\n",
       "\n",
       "    .dataframe tbody tr th {\n",
       "        vertical-align: top;\n",
       "    }\n",
       "</style>\n",
       "<table border=\"1\" class=\"dataframe\">\n",
       "  <thead>\n",
       "    <tr style=\"text-align: right;\">\n",
       "      <th></th>\n",
       "      <th>pixel0</th>\n",
       "      <th>pixel1</th>\n",
       "      <th>pixel2</th>\n",
       "      <th>pixel3</th>\n",
       "      <th>pixel4</th>\n",
       "      <th>pixel5</th>\n",
       "      <th>pixel6</th>\n",
       "      <th>pixel7</th>\n",
       "      <th>pixel8</th>\n",
       "      <th>pixel9</th>\n",
       "      <th>...</th>\n",
       "      <th>pixel774</th>\n",
       "      <th>pixel775</th>\n",
       "      <th>pixel776</th>\n",
       "      <th>pixel777</th>\n",
       "      <th>pixel778</th>\n",
       "      <th>pixel779</th>\n",
       "      <th>pixel780</th>\n",
       "      <th>pixel781</th>\n",
       "      <th>pixel782</th>\n",
       "      <th>pixel783</th>\n",
       "    </tr>\n",
       "  </thead>\n",
       "  <tbody>\n",
       "    <tr>\n",
       "      <th>27995</th>\n",
       "      <td>0</td>\n",
       "      <td>0</td>\n",
       "      <td>0</td>\n",
       "      <td>0</td>\n",
       "      <td>0</td>\n",
       "      <td>0</td>\n",
       "      <td>0</td>\n",
       "      <td>0</td>\n",
       "      <td>0</td>\n",
       "      <td>0</td>\n",
       "      <td>...</td>\n",
       "      <td>0</td>\n",
       "      <td>0</td>\n",
       "      <td>0</td>\n",
       "      <td>0</td>\n",
       "      <td>0</td>\n",
       "      <td>0</td>\n",
       "      <td>0</td>\n",
       "      <td>0</td>\n",
       "      <td>0</td>\n",
       "      <td>0</td>\n",
       "    </tr>\n",
       "    <tr>\n",
       "      <th>27996</th>\n",
       "      <td>0</td>\n",
       "      <td>0</td>\n",
       "      <td>0</td>\n",
       "      <td>0</td>\n",
       "      <td>0</td>\n",
       "      <td>0</td>\n",
       "      <td>0</td>\n",
       "      <td>0</td>\n",
       "      <td>0</td>\n",
       "      <td>0</td>\n",
       "      <td>...</td>\n",
       "      <td>0</td>\n",
       "      <td>0</td>\n",
       "      <td>0</td>\n",
       "      <td>0</td>\n",
       "      <td>0</td>\n",
       "      <td>0</td>\n",
       "      <td>0</td>\n",
       "      <td>0</td>\n",
       "      <td>0</td>\n",
       "      <td>0</td>\n",
       "    </tr>\n",
       "    <tr>\n",
       "      <th>27997</th>\n",
       "      <td>0</td>\n",
       "      <td>0</td>\n",
       "      <td>0</td>\n",
       "      <td>0</td>\n",
       "      <td>0</td>\n",
       "      <td>0</td>\n",
       "      <td>0</td>\n",
       "      <td>0</td>\n",
       "      <td>0</td>\n",
       "      <td>0</td>\n",
       "      <td>...</td>\n",
       "      <td>0</td>\n",
       "      <td>0</td>\n",
       "      <td>0</td>\n",
       "      <td>0</td>\n",
       "      <td>0</td>\n",
       "      <td>0</td>\n",
       "      <td>0</td>\n",
       "      <td>0</td>\n",
       "      <td>0</td>\n",
       "      <td>0</td>\n",
       "    </tr>\n",
       "    <tr>\n",
       "      <th>27998</th>\n",
       "      <td>0</td>\n",
       "      <td>0</td>\n",
       "      <td>0</td>\n",
       "      <td>0</td>\n",
       "      <td>0</td>\n",
       "      <td>0</td>\n",
       "      <td>0</td>\n",
       "      <td>0</td>\n",
       "      <td>0</td>\n",
       "      <td>0</td>\n",
       "      <td>...</td>\n",
       "      <td>0</td>\n",
       "      <td>0</td>\n",
       "      <td>0</td>\n",
       "      <td>0</td>\n",
       "      <td>0</td>\n",
       "      <td>0</td>\n",
       "      <td>0</td>\n",
       "      <td>0</td>\n",
       "      <td>0</td>\n",
       "      <td>0</td>\n",
       "    </tr>\n",
       "    <tr>\n",
       "      <th>27999</th>\n",
       "      <td>0</td>\n",
       "      <td>0</td>\n",
       "      <td>0</td>\n",
       "      <td>0</td>\n",
       "      <td>0</td>\n",
       "      <td>0</td>\n",
       "      <td>0</td>\n",
       "      <td>0</td>\n",
       "      <td>0</td>\n",
       "      <td>0</td>\n",
       "      <td>...</td>\n",
       "      <td>0</td>\n",
       "      <td>0</td>\n",
       "      <td>0</td>\n",
       "      <td>0</td>\n",
       "      <td>0</td>\n",
       "      <td>0</td>\n",
       "      <td>0</td>\n",
       "      <td>0</td>\n",
       "      <td>0</td>\n",
       "      <td>0</td>\n",
       "    </tr>\n",
       "  </tbody>\n",
       "</table>\n",
       "<p>5 rows × 784 columns</p>\n",
       "</div>"
      ],
      "text/plain": [
       "       pixel0  pixel1  pixel2  pixel3  pixel4  pixel5  pixel6  pixel7  pixel8  \\\n",
       "27995       0       0       0       0       0       0       0       0       0   \n",
       "27996       0       0       0       0       0       0       0       0       0   \n",
       "27997       0       0       0       0       0       0       0       0       0   \n",
       "27998       0       0       0       0       0       0       0       0       0   \n",
       "27999       0       0       0       0       0       0       0       0       0   \n",
       "\n",
       "       pixel9    ...     pixel774  pixel775  pixel776  pixel777  pixel778  \\\n",
       "27995       0    ...            0         0         0         0         0   \n",
       "27996       0    ...            0         0         0         0         0   \n",
       "27997       0    ...            0         0         0         0         0   \n",
       "27998       0    ...            0         0         0         0         0   \n",
       "27999       0    ...            0         0         0         0         0   \n",
       "\n",
       "       pixel779  pixel780  pixel781  pixel782  pixel783  \n",
       "27995         0         0         0         0         0  \n",
       "27996         0         0         0         0         0  \n",
       "27997         0         0         0         0         0  \n",
       "27998         0         0         0         0         0  \n",
       "27999         0         0         0         0         0  \n",
       "\n",
       "[5 rows x 784 columns]"
      ]
     },
     "execution_count": 15,
     "metadata": {},
     "output_type": "execute_result"
    }
   ],
   "source": [
    "X_test.tail()"
   ]
  },
  {
   "cell_type": "code",
   "execution_count": 21,
   "metadata": {},
   "outputs": [],
   "source": [
    "from sklearn.model_selection import train_test_split\n",
    "# validation set is 20 percent\n",
    "X_train, X_cv, Y_train, Y_cv = train_test_split(trainset_without_labels, trainset_labels, test_size = 0.2, random_state = 1111)"
   ]
  },
  {
   "cell_type": "code",
   "execution_count": 22,
   "metadata": {},
   "outputs": [],
   "source": [
    "# 33600 rows × 784 columns in X_train\n",
    "X_train = X_train.as_matrix().reshape(33600, 784) # to train.. chaning in matrix form with the same dimensions"
   ]
  },
  {
   "cell_type": "code",
   "execution_count": 23,
   "metadata": {},
   "outputs": [
    {
     "data": {
      "text/plain": [
       "array([[0, 0, 0, ..., 0, 0, 0],\n",
       "       [0, 0, 0, ..., 0, 0, 0],\n",
       "       [0, 0, 0, ..., 0, 0, 0],\n",
       "       ...,\n",
       "       [0, 0, 0, ..., 0, 0, 0],\n",
       "       [0, 0, 0, ..., 0, 0, 0],\n",
       "       [0, 0, 0, ..., 0, 0, 0]])"
      ]
     },
     "execution_count": 23,
     "metadata": {},
     "output_type": "execute_result"
    }
   ],
   "source": [
    "X_train"
   ]
  },
  {
   "cell_type": "code",
   "execution_count": 24,
   "metadata": {},
   "outputs": [],
   "source": [
    "# also for validation set whose dim is 8400 rows × 784 columns\n",
    "X_cv = X_cv.as_matrix().reshape(8400, 784)"
   ]
  },
  {
   "cell_type": "code",
   "execution_count": 25,
   "metadata": {},
   "outputs": [
    {
     "data": {
      "text/plain": [
       "array([[0, 0, 0, ..., 0, 0, 0],\n",
       "       [0, 0, 0, ..., 0, 0, 0],\n",
       "       [0, 0, 0, ..., 0, 0, 0],\n",
       "       ...,\n",
       "       [0, 0, 0, ..., 0, 0, 0],\n",
       "       [0, 0, 0, ..., 0, 0, 0],\n",
       "       [0, 0, 0, ..., 0, 0, 0]])"
      ]
     },
     "execution_count": 25,
     "metadata": {},
     "output_type": "execute_result"
    }
   ],
   "source": [
    "X_cv"
   ]
  },
  {
   "cell_type": "code",
   "execution_count": 26,
   "metadata": {},
   "outputs": [],
   "source": [
    "# similarly doing the same for X_test whose dim is 28000 rows × 784 columns\n",
    "X_test = X_test.as_matrix().reshape(28000, 784)"
   ]
  },
  {
   "cell_type": "code",
   "execution_count": 27,
   "metadata": {},
   "outputs": [
    {
     "data": {
      "text/plain": [
       "array([[0, 0, 0, ..., 0, 0, 0],\n",
       "       [0, 0, 0, ..., 0, 0, 0],\n",
       "       [0, 0, 0, ..., 0, 0, 0],\n",
       "       ...,\n",
       "       [0, 0, 0, ..., 0, 0, 0],\n",
       "       [0, 0, 0, ..., 0, 0, 0],\n",
       "       [0, 0, 0, ..., 0, 0, 0]])"
      ]
     },
     "execution_count": 27,
     "metadata": {},
     "output_type": "execute_result"
    }
   ],
   "source": [
    "X_test"
   ]
  },
  {
   "cell_type": "code",
   "execution_count": 28,
   "metadata": {},
   "outputs": [
    {
     "name": "stdout",
     "output_type": "stream",
     "text": [
      "0 255\n"
     ]
    }
   ],
   "source": [
    "# Data Cleaning and Normalization:\n",
    "# At first, lets check the pixels intensities range:\n",
    "print(min(X_train[1]), max(X_train[1]))"
   ]
  },
  {
   "cell_type": "code",
   "execution_count": 29,
   "metadata": {},
   "outputs": [],
   "source": [
    "# so the pixels intensities are currently between the range of 0 and 255, we proceed to normalize the features, using broadcasting,\n",
    "# Feature Normalization\n",
    "X_train = X_train.astype('float32')\n",
    "X_cv = X_cv.astype('float32')\n",
    "X_test = X_test.astype('float32')\n",
    "\n",
    "X_train /= 255\n",
    "X_cv /= 255\n",
    "X_test /= 255"
   ]
  },
  {
   "cell_type": "code",
   "execution_count": 30,
   "metadata": {},
   "outputs": [
    {
     "name": "stderr",
     "output_type": "stream",
     "text": [
      "/Library/Frameworks/Python.framework/Versions/3.6/lib/python3.6/site-packages/h5py/__init__.py:36: FutureWarning: Conversion of the second argument of issubdtype from `float` to `np.floating` is deprecated. In future, it will be treated as `np.float64 == np.dtype(float).type`.\n",
      "  from ._conv import register_converters as _register_converters\n",
      "Using TensorFlow backend.\n"
     ]
    }
   ],
   "source": [
    "# import keras\n",
    "from keras.models import Sequential\n",
    "from keras.layers import *\n",
    "from keras.utils import to_categorical"
   ]
  },
  {
   "cell_type": "code",
   "execution_count": 31,
   "metadata": {},
   "outputs": [],
   "source": [
    "# also we convert our lables from a class vector to binary One Hot Encoded\n",
    "# Convert lables to ONE HOT ENCODED\n",
    "num_of_digits = 10\n",
    "y_train = to_categorical(Y_train, num_classes=num_of_digits)\n",
    "# same for validation set\n",
    "y_cv = to_categorical(Y_cv, num_classes=num_of_digits)"
   ]
  },
  {
   "cell_type": "code",
   "execution_count": 32,
   "metadata": {},
   "outputs": [
    {
     "data": {
      "text/plain": [
       "array([0., 0., 0., 0., 0., 0., 0., 1., 0., 0.], dtype=float32)"
      ]
     },
     "execution_count": 32,
     "metadata": {},
     "output_type": "execute_result"
    }
   ],
   "source": [
    "# to check!\n",
    "y_train[0] # is number 7 "
   ]
  },
  {
   "cell_type": "code",
   "execution_count": 82,
   "metadata": {},
   "outputs": [],
   "source": [
    "# Model Fitting:\n",
    "# since its an empirical process so we try different model with different optimizers along with tuning hyperparameters\n",
    "model = Sequential()\n",
    "model.add(Dense(units=300, activation='relu', name='1st_Hidden_Layer', input_dim=784)) # input_dim = fetures = columns = 784\n",
    "model.add(Dense(units=100, activation='relu', name='2nd_Hidden_Layer'))\n",
    "model.add(Dense(units=100, activation='relu', name='3rd_Hidden_Layer'))\n",
    "model.add(Dense(units=200, activation='relu', name='4th_Hidden_Layer'))\n",
    "model.add(Dense(units=num_of_digits, activation='softmax', name='Output_Layer'))"
   ]
  },
  {
   "cell_type": "code",
   "execution_count": 83,
   "metadata": {},
   "outputs": [
    {
     "name": "stdout",
     "output_type": "stream",
     "text": [
      "_________________________________________________________________\n",
      "Layer (type)                 Output Shape              Param #   \n",
      "=================================================================\n",
      "1st_Hidden_Layer (Dense)     (None, 300)               235500    \n",
      "_________________________________________________________________\n",
      "2nd_Hidden_Layer (Dense)     (None, 100)               30100     \n",
      "_________________________________________________________________\n",
      "3rd_Hidden_Layer (Dense)     (None, 100)               10100     \n",
      "_________________________________________________________________\n",
      "4th_Hidden_Layer (Dense)     (None, 200)               20200     \n",
      "_________________________________________________________________\n",
      "Output_Layer (Dense)         (None, 10)                2010      \n",
      "=================================================================\n",
      "Total params: 297,910\n",
      "Trainable params: 297,910\n",
      "Non-trainable params: 0\n",
      "_________________________________________________________________\n"
     ]
    }
   ],
   "source": [
    "model.summary()"
   ]
  },
  {
   "cell_type": "code",
   "execution_count": 84,
   "metadata": {},
   "outputs": [],
   "source": [
    "# Compiling the model\n",
    "model.compile(loss='categorical_crossentropy', optimizer='sgd', metrics=['accuracy'])\n",
    "# note: loss function is categorical becoz we have 10 classes to classify for e.g. we'd do binary classification\n",
    "# we are using Stochastic Gradient Descent as our optimizer\n",
    "# we are interested in accruacy metrics for now!"
   ]
  },
  {
   "cell_type": "code",
   "execution_count": 85,
   "metadata": {},
   "outputs": [
    {
     "name": "stdout",
     "output_type": "stream",
     "text": [
      "Train on 33600 samples, validate on 8400 samples\n",
      "Epoch 1/20\n",
      " - 3s - loss: 1.9196 - acc: 0.4617 - val_loss: 1.1477 - val_acc: 0.7515\n",
      "Epoch 2/20\n",
      " - 2s - loss: 0.6910 - acc: 0.8259 - val_loss: 0.4694 - val_acc: 0.8708\n",
      "Epoch 3/20\n",
      " - 2s - loss: 0.4105 - acc: 0.8835 - val_loss: 0.3593 - val_acc: 0.8944\n",
      "Epoch 4/20\n",
      " - 2s - loss: 0.3372 - acc: 0.8995 - val_loss: 0.3115 - val_acc: 0.9074\n",
      "Epoch 5/20\n",
      " - 2s - loss: 0.2973 - acc: 0.9124 - val_loss: 0.2872 - val_acc: 0.9148\n",
      "Epoch 6/20\n",
      " - 2s - loss: 0.2702 - acc: 0.9201 - val_loss: 0.2692 - val_acc: 0.9192\n",
      "Epoch 7/20\n",
      " - 2s - loss: 0.2491 - acc: 0.9270 - val_loss: 0.2450 - val_acc: 0.9264\n",
      "Epoch 8/20\n",
      " - 2s - loss: 0.2301 - acc: 0.9332 - val_loss: 0.2340 - val_acc: 0.9282\n",
      "Epoch 9/20\n",
      " - 2s - loss: 0.2155 - acc: 0.9369 - val_loss: 0.2162 - val_acc: 0.9357\n",
      "Epoch 10/20\n",
      " - 2s - loss: 0.2019 - acc: 0.9408 - val_loss: 0.2073 - val_acc: 0.9360\n",
      "Epoch 11/20\n",
      " - 2s - loss: 0.1895 - acc: 0.9455 - val_loss: 0.1978 - val_acc: 0.9408\n",
      "Epoch 12/20\n",
      " - 2s - loss: 0.1784 - acc: 0.9480 - val_loss: 0.1892 - val_acc: 0.9415\n",
      "Epoch 13/20\n",
      " - 2s - loss: 0.1681 - acc: 0.9514 - val_loss: 0.1828 - val_acc: 0.9451\n",
      "Epoch 14/20\n",
      " - 2s - loss: 0.1591 - acc: 0.9537 - val_loss: 0.1750 - val_acc: 0.9454\n",
      "Epoch 15/20\n",
      " - 2s - loss: 0.1510 - acc: 0.9571 - val_loss: 0.1712 - val_acc: 0.9468\n",
      "Epoch 16/20\n",
      " - 2s - loss: 0.1429 - acc: 0.9588 - val_loss: 0.1624 - val_acc: 0.9513\n",
      "Epoch 17/20\n",
      " - 2s - loss: 0.1357 - acc: 0.9617 - val_loss: 0.1619 - val_acc: 0.9498\n",
      "Epoch 18/20\n",
      " - 2s - loss: 0.1288 - acc: 0.9629 - val_loss: 0.1555 - val_acc: 0.9520\n",
      "Epoch 19/20\n",
      " - 2s - loss: 0.1228 - acc: 0.9660 - val_loss: 0.1508 - val_acc: 0.9545\n",
      "Epoch 20/20\n",
      " - 2s - loss: 0.1170 - acc: 0.9673 - val_loss: 0.1445 - val_acc: 0.9560\n"
     ]
    },
    {
     "data": {
      "text/plain": [
       "<keras.callbacks.History at 0x11f658b00>"
      ]
     },
     "execution_count": 85,
     "metadata": {},
     "output_type": "execute_result"
    }
   ],
   "source": [
    "# Fitting the Model\n",
    "model.fit(x=X_train, y=y_train, batch_size=100, epochs=20, verbose=2, validation_data=(X_cv, y_cv))\n",
    "# we are using 100 batch_size with 20 epochs for fitting the model\n",
    "# also we are giving validation data too"
   ]
  },
  {
   "cell_type": "code",
   "execution_count": 33,
   "metadata": {},
   "outputs": [],
   "source": [
    "# We had validation score that is - training score of 95.60% \n",
    "# We can also check for test score  but we don't have label for that now!\n",
    "# could submit it in the kaggle and know it or see it.."
   ]
  },
  {
   "cell_type": "code",
   "execution_count": 34,
   "metadata": {},
   "outputs": [],
   "source": [
    "# Let's use Adam optimizer for building the model since it is said to increase lots of performance\n",
    "# building different model!\n",
    "model2 = Sequential()\n",
    "model2.add(Dense(activation='relu', units=300, name='1st_Hidden_Layer', input_dim=784)) # input layer dim is number of varibales or features\n",
    "model2.add(Dense(activation='relu', units=100, name='2nd_Hidden_Layer'))\n",
    "model2.add(Dense(activation='relu', units=100, name='3rd_Hidden_Layer'))\n",
    "model2.add(Dense(activation='relu', units=200, name='4th_Hidden_Layer'))\n",
    "model2.add(Dense(activation='softmax', units=num_of_digits, name='Output_Layer'))\n",
    "# note: name=\" should not have space in them\""
   ]
  },
  {
   "cell_type": "code",
   "execution_count": 35,
   "metadata": {},
   "outputs": [
    {
     "name": "stdout",
     "output_type": "stream",
     "text": [
      "_________________________________________________________________\n",
      "Layer (type)                 Output Shape              Param #   \n",
      "=================================================================\n",
      "1st_Hidden_Layer (Dense)     (None, 300)               235500    \n",
      "_________________________________________________________________\n",
      "2nd_Hidden_Layer (Dense)     (None, 100)               30100     \n",
      "_________________________________________________________________\n",
      "3rd_Hidden_Layer (Dense)     (None, 100)               10100     \n",
      "_________________________________________________________________\n",
      "4th_Hidden_Layer (Dense)     (None, 200)               20200     \n",
      "_________________________________________________________________\n",
      "Output_Layer (Dense)         (None, 10)                2010      \n",
      "=================================================================\n",
      "Total params: 297,910\n",
      "Trainable params: 297,910\n",
      "Non-trainable params: 0\n",
      "_________________________________________________________________\n"
     ]
    }
   ],
   "source": [
    "model2.summary()"
   ]
  },
  {
   "cell_type": "code",
   "execution_count": 36,
   "metadata": {},
   "outputs": [],
   "source": [
    "# compiling another model\n",
    "model2.compile(loss='categorical_crossentropy', optimizer='adam', metrics=['accuracy'])"
   ]
  },
  {
   "cell_type": "code",
   "execution_count": 38,
   "metadata": {},
   "outputs": [
    {
     "name": "stdout",
     "output_type": "stream",
     "text": [
      "Train on 33600 samples, validate on 8400 samples\n",
      "Epoch 1/20\n",
      " - 4s - loss: 0.3392 - acc: 0.9008 - val_loss: 0.1405 - val_acc: 0.9550\n",
      "Epoch 2/20\n",
      " - 3s - loss: 0.1207 - acc: 0.9639 - val_loss: 0.1095 - val_acc: 0.9658\n",
      "Epoch 3/20\n",
      " - 3s - loss: 0.0779 - acc: 0.9766 - val_loss: 0.1011 - val_acc: 0.9693\n",
      "Epoch 4/20\n",
      " - 3s - loss: 0.0579 - acc: 0.9819 - val_loss: 0.1122 - val_acc: 0.9655\n",
      "Epoch 5/20\n",
      " - 3s - loss: 0.0447 - acc: 0.9854 - val_loss: 0.0980 - val_acc: 0.9726\n",
      "Epoch 6/20\n",
      " - 3s - loss: 0.0321 - acc: 0.9903 - val_loss: 0.1174 - val_acc: 0.9662\n",
      "Epoch 7/20\n",
      " - 3s - loss: 0.0262 - acc: 0.9915 - val_loss: 0.1000 - val_acc: 0.9712\n",
      "Epoch 8/20\n",
      " - 3s - loss: 0.0308 - acc: 0.9901 - val_loss: 0.0959 - val_acc: 0.9739\n",
      "Epoch 9/20\n",
      " - 3s - loss: 0.0227 - acc: 0.9926 - val_loss: 0.1054 - val_acc: 0.9749\n",
      "Epoch 10/20\n",
      " - 3s - loss: 0.0203 - acc: 0.9935 - val_loss: 0.1443 - val_acc: 0.9654\n",
      "Epoch 11/20\n",
      " - 3s - loss: 0.0173 - acc: 0.9940 - val_loss: 0.1358 - val_acc: 0.9705\n",
      "Epoch 12/20\n",
      " - 3s - loss: 0.0202 - acc: 0.9934 - val_loss: 0.1146 - val_acc: 0.9739\n",
      "Epoch 13/20\n",
      " - 3s - loss: 0.0165 - acc: 0.9948 - val_loss: 0.1287 - val_acc: 0.9688\n",
      "Epoch 14/20\n",
      " - 3s - loss: 0.0136 - acc: 0.9952 - val_loss: 0.1163 - val_acc: 0.9751\n",
      "Epoch 15/20\n",
      " - 3s - loss: 0.0112 - acc: 0.9962 - val_loss: 0.1272 - val_acc: 0.9735\n",
      "Epoch 16/20\n",
      " - 3s - loss: 0.0116 - acc: 0.9965 - val_loss: 0.1185 - val_acc: 0.9757\n",
      "Epoch 17/20\n",
      " - 3s - loss: 0.0137 - acc: 0.9956 - val_loss: 0.1365 - val_acc: 0.9724\n",
      "Epoch 18/20\n",
      " - 3s - loss: 0.0161 - acc: 0.9948 - val_loss: 0.1307 - val_acc: 0.9702\n",
      "Epoch 19/20\n",
      " - 3s - loss: 0.0117 - acc: 0.9965 - val_loss: 0.1187 - val_acc: 0.9749\n",
      "Epoch 20/20\n",
      " - 3s - loss: 0.0100 - acc: 0.9968 - val_loss: 0.1185 - val_acc: 0.9758\n"
     ]
    },
    {
     "data": {
      "text/plain": [
       "<keras.callbacks.History at 0x1205724a8>"
      ]
     },
     "execution_count": 38,
     "metadata": {},
     "output_type": "execute_result"
    }
   ],
   "source": [
    "# fitting the model:\n",
    "model2.fit(x=X_train, y=y_train, batch_size=100, epochs=20, verbose=2, validation_data=(X_cv, y_cv))"
   ]
  },
  {
   "cell_type": "code",
   "execution_count": 39,
   "metadata": {},
   "outputs": [
    {
     "data": {
      "text/plain": [
       "\"\\n    As it turns out, it does appear to be the case that the optimizer plays a crucial part in the validation score. \\n    In particular, the model which relies on 'Adam' as its optimizer tend to perform 1.5 - 2.5% better on average. \\n    Going forward, we will use 'Adam' as our optimizer of choice.\\n\""
      ]
     },
     "execution_count": 39,
     "metadata": {},
     "output_type": "execute_result"
    }
   ],
   "source": [
    "\"\"\"\n",
    "    As it turns out, it does appear to be the case that the optimizer plays a crucial part in the validation score. \n",
    "    In particular, the model which relies on 'Adam' as its optimizer tend to perform 1.5 - 2.5% better on average. \n",
    "    Going forward, we will use 'Adam' as our optimizer of choice.\n",
    "\"\"\""
   ]
  },
  {
   "cell_type": "code",
   "execution_count": 43,
   "metadata": {},
   "outputs": [],
   "source": [
    "# We now proceed to include dropout (dropout rate of 0.3) in our model to prevent overfitting.\n",
    "# before that: we'd try adding another hidden layer and see if its make sense! .. did it and it doesn't change performance alot\n",
    "# so let's stick with our model2 architechture and add drop out in it!\n",
    "model3 = Sequential()\n",
    "model3.add(Dense(units=300, activation='relu', name='1st_hidden_layer', input_dim=784))\n",
    "model3.add(Dropout(0.3))\n",
    "model3.add(Dense(units=100, activation='relu', name='2nd_hidden_layer'))\n",
    "model3.add(Dropout(0.3))\n",
    "model3.add(Dense(units=100, activation='relu', name='3rd_hidden_layer'))\n",
    "model3.add(Dropout(0.3))\n",
    "model3.add(Dense(units=200, activation='relu', name='4th_hidden_layer'))\n",
    "model3.add(Dense(units=num_of_digits, activation='softmax', name='Output_Layer'))"
   ]
  },
  {
   "cell_type": "code",
   "execution_count": 44,
   "metadata": {},
   "outputs": [
    {
     "name": "stdout",
     "output_type": "stream",
     "text": [
      "_________________________________________________________________\n",
      "Layer (type)                 Output Shape              Param #   \n",
      "=================================================================\n",
      "1st_hidden_layer (Dense)     (None, 300)               235500    \n",
      "_________________________________________________________________\n",
      "dropout_1 (Dropout)          (None, 300)               0         \n",
      "_________________________________________________________________\n",
      "2nd_hidden_layer (Dense)     (None, 100)               30100     \n",
      "_________________________________________________________________\n",
      "dropout_2 (Dropout)          (None, 100)               0         \n",
      "_________________________________________________________________\n",
      "3rd_hidden_layer (Dense)     (None, 100)               10100     \n",
      "_________________________________________________________________\n",
      "dropout_3 (Dropout)          (None, 100)               0         \n",
      "_________________________________________________________________\n",
      "4th_hidden_layer (Dense)     (None, 200)               20200     \n",
      "_________________________________________________________________\n",
      "Output_Layer (Dense)         (None, 10)                2010      \n",
      "=================================================================\n",
      "Total params: 297,910\n",
      "Trainable params: 297,910\n",
      "Non-trainable params: 0\n",
      "_________________________________________________________________\n"
     ]
    }
   ],
   "source": [
    "model3.summary()"
   ]
  },
  {
   "cell_type": "code",
   "execution_count": 45,
   "metadata": {},
   "outputs": [],
   "source": [
    "# compile the model3\n",
    "model3.compile(loss='categorical_crossentropy', optimizer='adam', metrics=['accuracy'])"
   ]
  },
  {
   "cell_type": "code",
   "execution_count": 46,
   "metadata": {},
   "outputs": [
    {
     "name": "stdout",
     "output_type": "stream",
     "text": [
      "Train on 33600 samples, validate on 8400 samples\n",
      "Epoch 1/20\n",
      "33600/33600 [==============================] - 4s 123us/step - loss: 0.5776 - acc: 0.8170 - val_loss: 0.1810 - val_acc: 0.9455\n",
      "Epoch 2/20\n",
      "33600/33600 [==============================] - 3s 95us/step - loss: 0.2311 - acc: 0.9340 - val_loss: 0.1444 - val_acc: 0.9533\n",
      "Epoch 3/20\n",
      "33600/33600 [==============================] - 3s 95us/step - loss: 0.1726 - acc: 0.9506 - val_loss: 0.1161 - val_acc: 0.9633\n",
      "Epoch 4/20\n",
      "33600/33600 [==============================] - 4s 123us/step - loss: 0.1388 - acc: 0.9591 - val_loss: 0.1033 - val_acc: 0.9693\n",
      "Epoch 5/20\n",
      "33600/33600 [==============================] - 4s 109us/step - loss: 0.1196 - acc: 0.9651 - val_loss: 0.1108 - val_acc: 0.9675\n",
      "Epoch 6/20\n",
      "33600/33600 [==============================] - 4s 113us/step - loss: 0.1064 - acc: 0.9679 - val_loss: 0.0960 - val_acc: 0.9717\n",
      "Epoch 7/20\n",
      "33600/33600 [==============================] - 4s 121us/step - loss: 0.0990 - acc: 0.9714 - val_loss: 0.1003 - val_acc: 0.9723\n",
      "Epoch 8/20\n",
      "33600/33600 [==============================] - 3s 100us/step - loss: 0.0866 - acc: 0.9746 - val_loss: 0.0892 - val_acc: 0.9739\n",
      "Epoch 9/20\n",
      "33600/33600 [==============================] - 4s 105us/step - loss: 0.0792 - acc: 0.9769 - val_loss: 0.0923 - val_acc: 0.9743\n",
      "Epoch 10/20\n",
      "33600/33600 [==============================] - 3s 103us/step - loss: 0.0745 - acc: 0.9769 - val_loss: 0.0912 - val_acc: 0.9750\n",
      "Epoch 11/20\n",
      "33600/33600 [==============================] - 3s 98us/step - loss: 0.0701 - acc: 0.9789 - val_loss: 0.0964 - val_acc: 0.9746\n",
      "Epoch 12/20\n",
      "33600/33600 [==============================] - 4s 106us/step - loss: 0.0653 - acc: 0.9802 - val_loss: 0.0921 - val_acc: 0.9742\n",
      "Epoch 13/20\n",
      "33600/33600 [==============================] - 4s 132us/step - loss: 0.0661 - acc: 0.9799 - val_loss: 0.0943 - val_acc: 0.9738\n",
      "Epoch 14/20\n",
      "33600/33600 [==============================] - 3s 101us/step - loss: 0.0588 - acc: 0.9825 - val_loss: 0.0938 - val_acc: 0.9735\n",
      "Epoch 15/20\n",
      "33600/33600 [==============================] - 3s 100us/step - loss: 0.0550 - acc: 0.9835 - val_loss: 0.0985 - val_acc: 0.9726\n",
      "Epoch 16/20\n",
      "33600/33600 [==============================] - 3s 100us/step - loss: 0.0528 - acc: 0.9844 - val_loss: 0.0938 - val_acc: 0.9751\n",
      "Epoch 17/20\n",
      "33600/33600 [==============================] - 4s 108us/step - loss: 0.0515 - acc: 0.9846 - val_loss: 0.0963 - val_acc: 0.9740\n",
      "Epoch 18/20\n",
      "33600/33600 [==============================] - 3s 100us/step - loss: 0.0495 - acc: 0.9847 - val_loss: 0.0911 - val_acc: 0.9761\n",
      "Epoch 19/20\n",
      "33600/33600 [==============================] - 3s 98us/step - loss: 0.0468 - acc: 0.9862 - val_loss: 0.0964 - val_acc: 0.9774\n",
      "Epoch 20/20\n",
      "33600/33600 [==============================] - 3s 98us/step - loss: 0.0426 - acc: 0.9875 - val_loss: 0.0898 - val_acc: 0.9773\n"
     ]
    },
    {
     "data": {
      "text/plain": [
       "<keras.callbacks.History at 0x127560eb8>"
      ]
     },
     "execution_count": 46,
     "metadata": {},
     "output_type": "execute_result"
    }
   ],
   "source": [
    "# fit the model:\n",
    "model3.fit(x=X_train, y=y_train, batch_size=100, epochs=20, validation_data=(X_cv, y_cv))"
   ]
  },
  {
   "cell_type": "code",
   "execution_count": null,
   "metadata": {},
   "outputs": [],
   "source": []
  }
 ],
 "metadata": {
  "kernelspec": {
   "display_name": "Python 3",
   "language": "python",
   "name": "python3"
  },
  "language_info": {
   "codemirror_mode": {
    "name": "ipython",
    "version": 3
   },
   "file_extension": ".py",
   "mimetype": "text/x-python",
   "name": "python",
   "nbconvert_exporter": "python",
   "pygments_lexer": "ipython3",
   "version": "3.6.2"
  }
 },
 "nbformat": 4,
 "nbformat_minor": 2
}
